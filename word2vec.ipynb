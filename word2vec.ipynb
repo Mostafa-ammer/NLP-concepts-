{
 "cells": [
  {
   "cell_type": "markdown",
   "metadata": {
    "id": "FzbD8-xj6JAF"
   },
   "source": [
    "**Word2Vec**"
   ]
  },
  {
   "cell_type": "markdown",
   "metadata": {},
   "source": [
    "Convert word into vector based on semantic meaning (Context)"
   ]
  },
  {
   "cell_type": "code",
   "execution_count": 1,
   "metadata": {},
   "outputs": [
    {
     "name": "stdout",
     "output_type": "stream",
     "text": [
      "Requirement already satisfied: gensim in c:\\users\\ascom\\anaconda3\\lib\\site-packages (4.1.2)\n",
      "Requirement already satisfied: numpy>=1.17.0 in c:\\users\\ascom\\anaconda3\\lib\\site-packages (from gensim) (1.26.2)\n",
      "Requirement already satisfied: smart-open>=1.8.1 in c:\\users\\ascom\\anaconda3\\lib\\site-packages (from gensim) (5.2.1)\n",
      "Requirement already satisfied: scipy>=0.18.1 in c:\\users\\ascom\\anaconda3\\lib\\site-packages (from gensim) (1.9.1)\n",
      "INFO: pip is looking at multiple versions of numpy to determine which version is compatible with other requirements. This could take a while.\n",
      "INFO: pip is looking at multiple versions of gensim to determine which version is compatible with other requirements. This could take a while.\n",
      "\n",
      "The conflict is caused by:\n",
      "    gensim 4.1.2 depends on numpy>=1.17.0\n",
      "    scipy 1.9.1 depends on numpy<1.25.0 and >=1.18.5\n",
      "\n",
      "To fix this you could try to:\n",
      "1. loosen the range of package versions you've specified\n",
      "2. remove package versions to allow pip attempt to solve the dependency conflict\n",
      "\n"
     ]
    },
    {
     "name": "stderr",
     "output_type": "stream",
     "text": [
      "WARNING: Retrying (Retry(total=4, connect=None, read=None, redirect=None, status=None)) after connection broken by 'NewConnectionError('<pip._vendor.urllib3.connection.HTTPSConnection object at 0x000001F1AAD50F70>: Failed to establish a new connection: [Errno 11001] getaddrinfo failed')': /simple/numpy/\n",
      "WARNING: Retrying (Retry(total=3, connect=None, read=None, redirect=None, status=None)) after connection broken by 'NewConnectionError('<pip._vendor.urllib3.connection.HTTPSConnection object at 0x000001F1AAD65130>: Failed to establish a new connection: [Errno 11001] getaddrinfo failed')': /simple/numpy/\n",
      "WARNING: Retrying (Retry(total=2, connect=None, read=None, redirect=None, status=None)) after connection broken by 'NewConnectionError('<pip._vendor.urllib3.connection.HTTPSConnection object at 0x000001F1AAD650A0>: Failed to establish a new connection: [Errno 11001] getaddrinfo failed')': /simple/numpy/\n",
      "WARNING: Retrying (Retry(total=1, connect=None, read=None, redirect=None, status=None)) after connection broken by 'NewConnectionError('<pip._vendor.urllib3.connection.HTTPSConnection object at 0x000001F1AAD65670>: Failed to establish a new connection: [Errno 11001] getaddrinfo failed')': /simple/numpy/\n",
      "WARNING: Retrying (Retry(total=0, connect=None, read=None, redirect=None, status=None)) after connection broken by 'NewConnectionError('<pip._vendor.urllib3.connection.HTTPSConnection object at 0x000001F1AAD65820>: Failed to establish a new connection: [Errno 11001] getaddrinfo failed')': /simple/numpy/\n",
      "WARNING: Retrying (Retry(total=4, connect=None, read=None, redirect=None, status=None)) after connection broken by 'NewConnectionError('<pip._vendor.urllib3.connection.HTTPSConnection object at 0x000001F1AAD5F160>: Failed to establish a new connection: [Errno 11001] getaddrinfo failed')': /simple/scipy/\n",
      "WARNING: Retrying (Retry(total=3, connect=None, read=None, redirect=None, status=None)) after connection broken by 'NewConnectionError('<pip._vendor.urllib3.connection.HTTPSConnection object at 0x000001F1AAD5F430>: Failed to establish a new connection: [Errno 11001] getaddrinfo failed')': /simple/scipy/\n",
      "WARNING: Retrying (Retry(total=2, connect=None, read=None, redirect=None, status=None)) after connection broken by 'NewConnectionError('<pip._vendor.urllib3.connection.HTTPSConnection object at 0x000001F1AAD65370>: Failed to establish a new connection: [Errno 11001] getaddrinfo failed')': /simple/scipy/\n",
      "WARNING: Retrying (Retry(total=1, connect=None, read=None, redirect=None, status=None)) after connection broken by 'NewConnectionError('<pip._vendor.urllib3.connection.HTTPSConnection object at 0x000001F1AAD65760>: Failed to establish a new connection: [Errno 11001] getaddrinfo failed')': /simple/scipy/\n",
      "WARNING: Retrying (Retry(total=0, connect=None, read=None, redirect=None, status=None)) after connection broken by 'NewConnectionError('<pip._vendor.urllib3.connection.HTTPSConnection object at 0x000001F1AAD657F0>: Failed to establish a new connection: [Errno 11001] getaddrinfo failed')': /simple/scipy/\n",
      "WARNING: Retrying (Retry(total=4, connect=None, read=None, redirect=None, status=None)) after connection broken by 'NewConnectionError('<pip._vendor.urllib3.connection.HTTPSConnection object at 0x000001F1AAD5F640>: Failed to establish a new connection: [Errno 11001] getaddrinfo failed')': /simple/gensim/\n",
      "WARNING: Retrying (Retry(total=3, connect=None, read=None, redirect=None, status=None)) after connection broken by 'NewConnectionError('<pip._vendor.urllib3.connection.HTTPSConnection object at 0x000001F1AAD5F9D0>: Failed to establish a new connection: [Errno 11001] getaddrinfo failed')': /simple/gensim/\n",
      "WARNING: Retrying (Retry(total=2, connect=None, read=None, redirect=None, status=None)) after connection broken by 'NewConnectionError('<pip._vendor.urllib3.connection.HTTPSConnection object at 0x000001F1AAD5FB80>: Failed to establish a new connection: [Errno 11001] getaddrinfo failed')': /simple/gensim/\n",
      "WARNING: Retrying (Retry(total=1, connect=None, read=None, redirect=None, status=None)) after connection broken by 'NewConnectionError('<pip._vendor.urllib3.connection.HTTPSConnection object at 0x000001F1AAD5FD30>: Failed to establish a new connection: [Errno 11001] getaddrinfo failed')': /simple/gensim/\n",
      "WARNING: Retrying (Retry(total=0, connect=None, read=None, redirect=None, status=None)) after connection broken by 'NewConnectionError('<pip._vendor.urllib3.connection.HTTPSConnection object at 0x000001F1AAD5FF10>: Failed to establish a new connection: [Errno 11001] getaddrinfo failed')': /simple/gensim/\n",
      "ERROR: Cannot install gensim==4.1.2 and scipy==1.9.1 because these package versions have conflicting dependencies.\n",
      "ERROR: ResolutionImpossible: for help visit https://pip.pypa.io/en/latest/topics/dependency-resolution/#dealing-with-dependency-conflicts\n"
     ]
    }
   ],
   "source": [
    "!pip install gensim\n",
    "# !pip install python-Levenshtein"
   ]
  },
  {
   "cell_type": "code",
   "execution_count": 2,
   "metadata": {
    "id": "NEUPovNgTHmu"
   },
   "outputs": [
    {
     "name": "stderr",
     "output_type": "stream",
     "text": [
      "C:\\Users\\ascom\\anaconda3\\lib\\site-packages\\scipy\\__init__.py:155: UserWarning: A NumPy version >=1.18.5 and <1.25.0 is required for this version of SciPy (detected version 1.26.2\n",
      "  warnings.warn(f\"A NumPy version >={np_minversion} and <{np_maxversion}\"\n"
     ]
    }
   ],
   "source": [
    "# import required libraries\n",
    "import gensim\n",
    "import pandas as pd"
   ]
  },
  {
   "cell_type": "code",
   "execution_count": 3,
   "metadata": {
    "colab": {
     "base_uri": "https://localhost:8080/",
     "height": 371
    },
    "id": "SagRgpfsTM5k",
    "outputId": "487f46df-6650-4c34-cf78-4240ee039ea4"
   },
   "outputs": [
    {
     "data": {
      "text/html": [
       "<div>\n",
       "<style scoped>\n",
       "    .dataframe tbody tr th:only-of-type {\n",
       "        vertical-align: middle;\n",
       "    }\n",
       "\n",
       "    .dataframe tbody tr th {\n",
       "        vertical-align: top;\n",
       "    }\n",
       "\n",
       "    .dataframe thead th {\n",
       "        text-align: right;\n",
       "    }\n",
       "</style>\n",
       "<table border=\"1\" class=\"dataframe\">\n",
       "  <thead>\n",
       "    <tr style=\"text-align: right;\">\n",
       "      <th></th>\n",
       "      <th>reviewerID</th>\n",
       "      <th>asin</th>\n",
       "      <th>reviewerName</th>\n",
       "      <th>helpful</th>\n",
       "      <th>reviewText</th>\n",
       "      <th>overall</th>\n",
       "      <th>summary</th>\n",
       "      <th>unixReviewTime</th>\n",
       "      <th>reviewTime</th>\n",
       "    </tr>\n",
       "  </thead>\n",
       "  <tbody>\n",
       "    <tr>\n",
       "      <th>0</th>\n",
       "      <td>A30TL5EWN6DFXT</td>\n",
       "      <td>120401325X</td>\n",
       "      <td>christina</td>\n",
       "      <td>[0, 0]</td>\n",
       "      <td>They look good and stick good! I just don't li...</td>\n",
       "      <td>4</td>\n",
       "      <td>Looks Good</td>\n",
       "      <td>1400630400</td>\n",
       "      <td>05 21, 2014</td>\n",
       "    </tr>\n",
       "    <tr>\n",
       "      <th>1</th>\n",
       "      <td>ASY55RVNIL0UD</td>\n",
       "      <td>120401325X</td>\n",
       "      <td>emily l.</td>\n",
       "      <td>[0, 0]</td>\n",
       "      <td>These stickers work like the review says they ...</td>\n",
       "      <td>5</td>\n",
       "      <td>Really great product.</td>\n",
       "      <td>1389657600</td>\n",
       "      <td>01 14, 2014</td>\n",
       "    </tr>\n",
       "    <tr>\n",
       "      <th>2</th>\n",
       "      <td>A2TMXE2AFO7ONB</td>\n",
       "      <td>120401325X</td>\n",
       "      <td>Erica</td>\n",
       "      <td>[0, 0]</td>\n",
       "      <td>These are awesome and make my phone look so st...</td>\n",
       "      <td>5</td>\n",
       "      <td>LOVE LOVE LOVE</td>\n",
       "      <td>1403740800</td>\n",
       "      <td>06 26, 2014</td>\n",
       "    </tr>\n",
       "  </tbody>\n",
       "</table>\n",
       "</div>"
      ],
      "text/plain": [
       "       reviewerID        asin reviewerName helpful  \\\n",
       "0  A30TL5EWN6DFXT  120401325X    christina  [0, 0]   \n",
       "1   ASY55RVNIL0UD  120401325X     emily l.  [0, 0]   \n",
       "2  A2TMXE2AFO7ONB  120401325X        Erica  [0, 0]   \n",
       "\n",
       "                                          reviewText  overall  \\\n",
       "0  They look good and stick good! I just don't li...        4   \n",
       "1  These stickers work like the review says they ...        5   \n",
       "2  These are awesome and make my phone look so st...        5   \n",
       "\n",
       "                 summary  unixReviewTime   reviewTime  \n",
       "0             Looks Good      1400630400  05 21, 2014  \n",
       "1  Really great product.      1389657600  01 14, 2014  \n",
       "2         LOVE LOVE LOVE      1403740800  06 26, 2014  "
      ]
     },
     "execution_count": 3,
     "metadata": {},
     "output_type": "execute_result"
    }
   ],
   "source": [
    "# Read Json file\n",
    "df = pd.read_json(r'Cell_Phones_and_Accessories_5.json', lines=True)\n",
    "df.head(3)"
   ]
  },
  {
   "cell_type": "code",
   "execution_count": 4,
   "metadata": {
    "colab": {
     "base_uri": "https://localhost:8080/"
    },
    "id": "UFl6oTWtERkX",
    "outputId": "f3978098-3f4c-48ba-9908-59d6cb6e7cc4"
   },
   "outputs": [
    {
     "data": {
      "text/plain": [
       "0         [they, look, good, and, stick, good, just, don...\n",
       "1         [these, stickers, work, like, the, review, say...\n",
       "2         [these, are, awesome, and, make, my, phone, lo...\n",
       "3         [item, arrived, in, great, time, and, was, in,...\n",
       "4         [awesome, stays, on, and, looks, great, can, b...\n",
       "                                ...                        \n",
       "194434    [works, great, just, like, my, original, one, ...\n",
       "194435    [great, product, great, packaging, high, quali...\n",
       "194436    [this, is, great, cable, just, as, good, as, t...\n",
       "194437    [really, like, it, becasue, it, works, well, w...\n",
       "194438    [product, as, described, have, wasted, lot, of...\n",
       "Name: reviewText, Length: 194439, dtype: object"
      ]
     },
     "execution_count": 4,
     "metadata": {},
     "output_type": "execute_result"
    }
   ],
   "source": [
    "'''\n",
    "Use \"gensim\" to make preprocessing on text\n",
    "such as convert text into lowercase , remove punctuations ,\n",
    "remove stop words,Tokenization and store tokens in list\n",
    "'''\n",
    "review_text = df['reviewText'].apply(gensim.utils.simple_preprocess)\n",
    "review_text"
   ]
  },
  {
   "cell_type": "code",
   "execution_count": 5,
   "metadata": {
    "colab": {
     "base_uri": "https://localhost:8080/",
     "height": 1000
    },
    "id": "r8z6Jsk1kXhE",
    "outputId": "bdb98055-fc98-4aab-c997-4db2cb670e7d"
   },
   "outputs": [
    {
     "name": "stdout",
     "output_type": "stream",
     "text": [
      "List of index 0: ['they', 'look', 'good', 'and', 'stick', 'good', 'just', 'don', 'like', 'the', 'rounded', 'shape', 'because', 'was', 'always', 'bumping', 'it', 'and', 'siri', 'kept', 'popping', 'up', 'and', 'it', 'was', 'irritating', 'just', 'won', 'buy', 'product', 'like', 'this', 'again']\n",
      "\n",
      "List of index 1: ['these', 'stickers', 'work', 'like', 'the', 'review', 'says', 'they', 'do', 'they', 'stick', 'on', 'great', 'and', 'they', 'stay', 'on', 'the', 'phone', 'they', 'are', 'super', 'stylish', 'and', 'can', 'share', 'them', 'with', 'my', 'sister']\n",
      "\n",
      "List of index 2: ['these', 'are', 'awesome', 'and', 'make', 'my', 'phone', 'look', 'so', 'stylish', 'have', 'only', 'used', 'one', 'so', 'far', 'and', 'have', 'had', 'it', 'on', 'for', 'almost', 'year', 'can', 'you', 'believe', 'that', 'one', 'year', 'great', 'quality']\n",
      "\n",
      "List of index 3: ['item', 'arrived', 'in', 'great', 'time', 'and', 'was', 'in', 'perfect', 'condition', 'however', 'ordered', 'these', 'buttons', 'because', 'they', 'were', 'great', 'deal', 'and', 'included', 'free', 'screen', 'protector', 'never', 'received', 'one', 'though', 'its', 'not', 'big', 'deal', 'it', 'would', 've', 'been', 'nice', 'to', 'get', 'it', 'since', 'they', 'claim', 'it', 'comes', 'with', 'one']\n",
      "\n",
      "List of index 4: ['awesome', 'stays', 'on', 'and', 'looks', 'great', 'can', 'be', 'used', 'on', 'multiple', 'apple', 'products', 'especially', 'having', 'nails', 'it', 'helps', 'to', 'have', 'an', 'elevated', 'key']\n",
      "\n",
      "List of index 5: ['these', 'make', 'using', 'the', 'home', 'button', 'easy', 'my', 'daughter', 'and', 'both', 'like', 'them', 'would', 'purchase', 'them', 'again', 'well', 'worth', 'the', 'price']\n",
      "\n",
      "List of index 6: ['came', 'just', 'as', 'described', 'it', 'doesn', 'come', 'unstuck', 'and', 'its', 'cute', 'people', 'ask', 'where', 'got', 'them', 'from', 'it', 'great', 'when', 'driving']\n",
      "\n",
      "List of index 7: ['it', 'worked', 'for', 'the', 'first', 'week', 'then', 'it', 'only', 'charge', 'my', 'phone', 'to', 'it', 'is', 'waste', 'of', 'money']\n",
      "\n",
      "List of index 8: ['good', 'case', 'solid', 'build', 'protects', 'phone', 'all', 'around', 'with', 'good', 'access', 'to', 'buttons', 'battery', 'charges', 'with', 'full', 'battery', 'lasts', 'me', 'full', 'day', 'usually', 'leave', 'my', 'house', 'around', 'am', 'and', 'return', 'at', 'pm', 'glad', 'that', 'it', 'lasts', 'from', 'start', 'to', 'end']\n",
      "\n",
      "List of index 9: ['this', 'is', 'fantastic', 'case', 'very', 'stylish', 'and', 'protects', 'my', 'phone', 'easy', 'access', 'to', 'all', 'buttons', 'and', 'features', 'without', 'any', 'loss', 'of', 'phone', 'reception', 'but', 'most', 'importantly', 'it', 'double', 'power', 'just', 'as', 'promised', 'great', 'buy']\n",
      "\n"
     ]
    }
   ],
   "source": [
    "# Print the first ten list\n",
    "for index,lis in  enumerate (review_text):\n",
    "    if index < 10:\n",
    "        print(f\"List of index {index}: {lis}\\n\")"
   ]
  },
  {
   "cell_type": "markdown",
   "metadata": {
    "id": "oGYyG_Ptl2Ny"
   },
   "source": [
    "Training the Word2Vec Model\n"
   ]
  },
  {
   "cell_type": "code",
   "execution_count": 6,
   "metadata": {
    "colab": {
     "base_uri": "https://localhost:8080/"
    },
    "id": "rTuDYVJ_ko28",
    "outputId": "95709b5d-9b6b-4ac9-ba42-c3ad488d73cf"
   },
   "outputs": [],
   "source": [
    "# Build the model \n",
    "model = gensim.models.Word2Vec(\n",
    "    window=10, # window size (10 words before target word and 10 words after target word)\n",
    "    min_count=2, # the minimum words in sentence \n",
    "    workers=4, #  number of  CPU threads\n",
    ")"
   ]
  },
  {
   "cell_type": "code",
   "execution_count": 7,
   "metadata": {
    "id": "l_mssi0ekwWs"
   },
   "outputs": [],
   "source": [
    "# Vocabulary \n",
    "model.build_vocab(review_text, progress_per=1000)"
   ]
  },
  {
   "cell_type": "code",
   "execution_count": 8,
   "metadata": {},
   "outputs": [
    {
     "data": {
      "text/plain": [
       "(61506253, 83868975)"
      ]
     },
     "execution_count": 8,
     "metadata": {},
     "output_type": "execute_result"
    }
   ],
   "source": [
    "# Train the model\n",
    "model.train(review_text, total_examples=model.corpus_count, epochs=model.epochs)"
   ]
  },
  {
   "cell_type": "code",
   "execution_count": 9,
   "metadata": {},
   "outputs": [
    {
     "data": {
      "text/plain": [
       "[('day', 0.6674665808677673),\n",
       " ('night', 0.5648826360702515),\n",
       " ('footstep', 0.5599106550216675),\n",
       " ('penny', 0.5552220344543457),\n",
       " ('morning', 0.5199440121650696),\n",
       " ('moment', 0.5119136571884155),\n",
       " ('weekend', 0.478390097618103),\n",
       " ('cycle', 0.47252070903778076),\n",
       " ('minute', 0.4657999873161316),\n",
       " ('mins', 0.44832199811935425)]"
      ]
     },
     "execution_count": 9,
     "metadata": {},
     "output_type": "execute_result"
    }
   ],
   "source": [
    "# Get similar words \n",
    "model.wv.most_similar(\"time\")"
   ]
  },
  {
   "cell_type": "code",
   "execution_count": 10,
   "metadata": {},
   "outputs": [
    {
     "data": {
      "text/plain": [
       "[('fantastic', 0.8566185832023621),\n",
       " ('wonderful', 0.8261293172836304),\n",
       " ('good', 0.7917861342430115),\n",
       " ('awesome', 0.7523834109306335),\n",
       " ('perfect', 0.723669707775116),\n",
       " ('fabulous', 0.7136659026145935),\n",
       " ('excellent', 0.7020270824432373),\n",
       " ('nice', 0.682478129863739),\n",
       " ('terrific', 0.6758182048797607),\n",
       " ('amazing', 0.6699962615966797)]"
      ]
     },
     "execution_count": 10,
     "metadata": {},
     "output_type": "execute_result"
    }
   ],
   "source": [
    "model.wv.most_similar(\"great\")"
   ]
  },
  {
   "cell_type": "code",
   "execution_count": 11,
   "metadata": {},
   "outputs": [
    {
     "data": {
      "text/plain": [
       "[('item', 0.8794766664505005),\n",
       " ('products', 0.5259015560150146),\n",
       " ('company', 0.5047276020050049),\n",
       " ('seller', 0.5039994716644287),\n",
       " ('vendor', 0.4982939064502716),\n",
       " ('value', 0.4964480400085449),\n",
       " ('workmanship', 0.4771156907081604),\n",
       " ('transaction', 0.4650908410549164),\n",
       " ('prodcut', 0.4529708921909332),\n",
       " ('accessory', 0.44575241208076477)]"
      ]
     },
     "execution_count": 11,
     "metadata": {},
     "output_type": "execute_result"
    }
   ],
   "source": [
    "model.wv.most_similar(\"product\")"
   ]
  }
 ],
 "metadata": {
  "colab": {
   "provenance": []
  },
  "kernelspec": {
   "display_name": "Python 3 (ipykernel)",
   "language": "python",
   "name": "python3"
  },
  "language_info": {
   "codemirror_mode": {
    "name": "ipython",
    "version": 3
   },
   "file_extension": ".py",
   "mimetype": "text/x-python",
   "name": "python",
   "nbconvert_exporter": "python",
   "pygments_lexer": "ipython3",
   "version": "3.9.13"
  }
 },
 "nbformat": 4,
 "nbformat_minor": 1
}
