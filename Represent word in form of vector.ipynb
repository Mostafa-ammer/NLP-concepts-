{
  "nbformat": 4,
  "nbformat_minor": 0,
  "metadata": {
    "colab": {
      "provenance": []
    },
    "kernelspec": {
      "name": "python3",
      "display_name": "Python 3"
    },
    "language_info": {
      "name": "python"
    }
  },
  "cells": [
    {
      "cell_type": "markdown",
      "source": [
        "# How to represent word in form of vector"
      ],
      "metadata": {
        "id": "oPyyXYANVAeo"
      }
    },
    {
      "cell_type": "markdown",
      "source": [
        "import required libraries"
      ],
      "metadata": {
        "id": "d-lhG8KOVKtF"
      }
    },
    {
      "cell_type": "code",
      "execution_count": 1,
      "metadata": {
        "id": "jbSkOxWzU8FB"
      },
      "outputs": [],
      "source": [
        "# Import required libraries\n",
        "import pandas as pd\n",
        "import numpy as np\n",
        "from tensorflow.keras.preprocessing.text import one_hot\n",
        "from tensorflow.keras.preprocessing.sequence import pad_sequences\n",
        "from tensorflow.keras.models import Sequential\n",
        "from tensorflow.keras.layers import Dense\n",
        "from tensorflow.keras.layers import Flatten\n",
        "from tensorflow.keras.layers import Embedding"
      ]
    },
    {
      "cell_type": "markdown",
      "source": [
        "Encode using unique number"
      ],
      "metadata": {
        "id": "qLMN5lSocYem"
      }
    },
    {
      "cell_type": "code",
      "source": [
        "# Encode set of reviews by assign unique number for each word\n",
        "reviews = ['nice food',\n",
        "        'amazing restaurant',\n",
        "        'too good',\n",
        "        'just loved it!',\n",
        "        'will go again',\n",
        "        'horrible food',\n",
        "        'never go there',\n",
        "        'poor service',\n",
        "        'poor quality',\n",
        "        'needs improvement']\n",
        "\n",
        "vocab_size=20\n",
        "lc=[ one_hot(i, vocab_size) for i in reviews]\n",
        "print(lc)"
      ],
      "metadata": {
        "colab": {
          "base_uri": "https://localhost:8080/"
        },
        "id": "l5bk9Zq6VWXg",
        "outputId": "0d2cf06a-27fc-466b-8b35-292aca6135b7"
      },
      "execution_count": 2,
      "outputs": [
        {
          "output_type": "stream",
          "name": "stdout",
          "text": [
            "[[15, 5], [3, 2], [2, 5], [11, 1, 9], [6, 1, 1], [19, 5], [9, 1, 10], [13, 2], [13, 6], [1, 11]]\n"
          ]
        }
      ]
    },
    {
      "cell_type": "code",
      "source": [
        "# Padding each vector to be the length is 4\n",
        "max_length = 4\n",
        "padded_reviews = pad_sequences(lc, maxlen=max_length, padding='post')\n",
        "print(padded_reviews)"
      ],
      "metadata": {
        "colab": {
          "base_uri": "https://localhost:8080/"
        },
        "id": "UtLNXn3MWDbo",
        "outputId": "edd1bf95-f224-40ae-a19e-9bfd47e5ca77"
      },
      "execution_count": 3,
      "outputs": [
        {
          "output_type": "stream",
          "name": "stdout",
          "text": [
            "[[15  5  0  0]\n",
            " [ 3  2  0  0]\n",
            " [ 2  5  0  0]\n",
            " [11  1  9  0]\n",
            " [ 6  1  1  0]\n",
            " [19  5  0  0]\n",
            " [ 9  1 10  0]\n",
            " [13  2  0  0]\n",
            " [13  6  0  0]\n",
            " [ 1 11  0  0]]\n"
          ]
        }
      ]
    },
    {
      "cell_type": "markdown",
      "source": [
        "Supervisied learning word embedding"
      ],
      "metadata": {
        "id": "4SXkIEGScm-c"
      }
    },
    {
      "cell_type": "code",
      "source": [
        "# Using supervisied learning word-embedding\n",
        "model = Sequential()\n",
        "model.add(Embedding(vocab_size, 5, input_length=max_length,name=\"embedding\"))\n",
        "model.add(Flatten())\n",
        "model.add(Dense(1, activation='sigmoid'))"
      ],
      "metadata": {
        "id": "XSu5vDOpWtxR"
      },
      "execution_count": 4,
      "outputs": []
    },
    {
      "cell_type": "code",
      "source": [
        "# Split into 'x' and 'y'\n",
        "sentiment = np.array([1,1,1,1,1,0,0,0,0,0])\n",
        "x = padded_reviews\n",
        "y = sentiment"
      ],
      "metadata": {
        "id": "XnzAnEuzW-Er"
      },
      "execution_count": 5,
      "outputs": []
    },
    {
      "cell_type": "code",
      "source": [
        "# Compile the model\n",
        "model.compile(optimizer='adam', loss='binary_crossentropy', metrics=['accuracy'])\n",
        "print(model.summary())"
      ],
      "metadata": {
        "colab": {
          "base_uri": "https://localhost:8080/"
        },
        "id": "106FNUA4YAEm",
        "outputId": "c0ba4521-a374-4ea8-cccc-830d65425561"
      },
      "execution_count": 6,
      "outputs": [
        {
          "output_type": "stream",
          "name": "stdout",
          "text": [
            "Model: \"sequential\"\n",
            "_________________________________________________________________\n",
            " Layer (type)                Output Shape              Param #   \n",
            "=================================================================\n",
            " embedding (Embedding)       (None, 4, 5)              100       \n",
            "                                                                 \n",
            " flatten (Flatten)           (None, 20)                0         \n",
            "                                                                 \n",
            " dense (Dense)               (None, 1)                 21        \n",
            "                                                                 \n",
            "=================================================================\n",
            "Total params: 121 (484.00 Byte)\n",
            "Trainable params: 121 (484.00 Byte)\n",
            "Non-trainable params: 0 (0.00 Byte)\n",
            "_________________________________________________________________\n",
            "None\n"
          ]
        }
      ]
    },
    {
      "cell_type": "code",
      "source": [
        "# train the model\n",
        "model.fit(x, y, epochs=50, verbose=0)"
      ],
      "metadata": {
        "colab": {
          "base_uri": "https://localhost:8080/"
        },
        "id": "Cx20t2BEX3Bj",
        "outputId": "f85b3628-122d-481e-b544-c4e81eadda34"
      },
      "execution_count": 7,
      "outputs": [
        {
          "output_type": "execute_result",
          "data": {
            "text/plain": [
              "<keras.src.callbacks.History at 0x79de80301e40>"
            ]
          },
          "metadata": {},
          "execution_count": 7
        }
      ]
    },
    {
      "cell_type": "code",
      "source": [
        "# Evalute the model\n",
        "model.evaluate(x,y)"
      ],
      "metadata": {
        "colab": {
          "base_uri": "https://localhost:8080/"
        },
        "id": "rwKQJh48YFSH",
        "outputId": "32e573be-b551-46ec-f0b4-7009a7dded09"
      },
      "execution_count": 8,
      "outputs": [
        {
          "output_type": "stream",
          "name": "stdout",
          "text": [
            "1/1 [==============================] - 0s 309ms/step - loss: 0.6410 - accuracy: 0.8000\n"
          ]
        },
        {
          "output_type": "execute_result",
          "data": {
            "text/plain": [
              "[0.6409926414489746, 0.800000011920929]"
            ]
          },
          "metadata": {},
          "execution_count": 8
        }
      ]
    },
    {
      "cell_type": "code",
      "source": [
        "# Get embedding matrix\n",
        "weights = model.get_layer('embedding').get_weights()[0]\n",
        "weights"
      ],
      "metadata": {
        "colab": {
          "base_uri": "https://localhost:8080/"
        },
        "id": "xZOvwlmOYSFx",
        "outputId": "10128427-fbea-4415-f39d-ac45ac3e8497"
      },
      "execution_count": 9,
      "outputs": [
        {
          "output_type": "execute_result",
          "data": {
            "text/plain": [
              "array([[ 0.09080291,  0.04077743,  0.07048608, -0.09536643, -0.06410235],\n",
              "       [ 0.04564615,  0.08861034,  0.09281723,  0.02030244,  0.0847896 ],\n",
              "       [-0.03653952, -0.03867165, -0.06675962, -0.0283529 , -0.05561654],\n",
              "       [-0.06883483, -0.0596122 , -0.02360052, -0.01153345, -0.06395859],\n",
              "       [ 0.01962403, -0.03958964, -0.04344456,  0.04233046,  0.03015471],\n",
              "       [ 0.00277658,  0.05412876,  0.03600292, -0.06823713,  0.0716436 ],\n",
              "       [-0.03855876, -0.01912527, -0.00789569, -0.09639236, -0.03363668],\n",
              "       [-0.02408277, -0.03584455, -0.01871102,  0.00058589,  0.03086111],\n",
              "       [-0.04019791,  0.03031926, -0.02510473, -0.0073264 ,  0.04797361],\n",
              "       [ 0.00056963, -0.008749  , -0.0964853 ,  0.05038533,  0.09352905],\n",
              "       [ 0.01957663,  0.03023343,  0.048843  , -0.01209556, -0.01905228],\n",
              "       [-0.07536631, -0.05394083, -0.02035267, -0.05196862, -0.08270742],\n",
              "       [-0.00458559, -0.04629245, -0.0375168 , -0.00401822,  0.02586285],\n",
              "       [ 0.02078405,  0.09084024,  0.04138005,  0.02842173,  0.04474073],\n",
              "       [-0.03576574, -0.02986476, -0.02361136,  0.01705772, -0.00784259],\n",
              "       [-0.04804495, -0.02424912, -0.07106739, -0.03502652, -0.0979435 ],\n",
              "       [-0.02612512,  0.03312837,  0.0399771 , -0.01269219, -0.01990774],\n",
              "       [ 0.02403487, -0.02766417, -0.04585985,  0.0038318 ,  0.02760791],\n",
              "       [ 0.03817656, -0.02353638, -0.01575451, -0.04346364,  0.02750131],\n",
              "       [ 0.08351324,  0.0163718 ,  0.04912731,  0.01459684,  0.0890444 ]],\n",
              "      dtype=float32)"
            ]
          },
          "metadata": {},
          "execution_count": 9
        }
      ]
    },
    {
      "cell_type": "code",
      "source": [
        "# Check \"Amazing\" and \"Nice\" words\n",
        "print(weights[15])\n",
        "print(weights[3])"
      ],
      "metadata": {
        "colab": {
          "base_uri": "https://localhost:8080/"
        },
        "id": "0PhW2dYLYfVv",
        "outputId": "d4478d5a-2ceb-4914-d2e3-ad4485dbf8a8"
      },
      "execution_count": 12,
      "outputs": [
        {
          "output_type": "stream",
          "name": "stdout",
          "text": [
            "[-0.04804495 -0.02424912 -0.07106739 -0.03502652 -0.0979435 ]\n",
            "[-0.06883483 -0.0596122  -0.02360052 -0.01153345 -0.06395859]\n"
          ]
        }
      ]
    },
    {
      "cell_type": "markdown",
      "source": [
        "- Two words are very similar"
      ],
      "metadata": {
        "id": "T64PwXleZTcO"
      }
    },
    {
      "cell_type": "code",
      "source": [
        "# Check \"Good\" and \"Amazing\" words\n",
        "print(weights[13])\n",
        "print(weights[3])"
      ],
      "metadata": {
        "colab": {
          "base_uri": "https://localhost:8080/"
        },
        "id": "vlkEdFC7ZHmV",
        "outputId": "7188831c-62d4-4414-e18d-27a5961d5bf4"
      },
      "execution_count": 13,
      "outputs": [
        {
          "output_type": "stream",
          "name": "stdout",
          "text": [
            "[0.02078405 0.09084024 0.04138005 0.02842173 0.04474073]\n",
            "[-0.06883483 -0.0596122  -0.02360052 -0.01153345 -0.06395859]\n"
          ]
        }
      ]
    },
    {
      "cell_type": "markdown",
      "source": [
        "- Two words are not similar."
      ],
      "metadata": {
        "id": "IhbotG7ea6ye"
      }
    }
  ]
}