{
  "nbformat": 4,
  "nbformat_minor": 0,
  "metadata": {
    "colab": {
      "provenance": []
    },
    "kernelspec": {
      "name": "python3",
      "display_name": "Python 3"
    },
    "language_info": {
      "name": "python"
    }
  },
  "cells": [
    {
      "cell_type": "markdown",
      "source": [
        "# Bag of Words"
      ],
      "metadata": {
        "id": "gpNSNQcOU7cL"
      }
    },
    {
      "cell_type": "code",
      "source": [
        "# import required libraries\n",
        "import pandas as pd\n",
        "import numpy as np\n",
        "import seaborn as sns\n",
        "import re\n",
        "import nltk\n",
        "import string\n",
        "from nltk.tokenize import word_tokenize\n",
        "from nltk.corpus import stopwords\n",
        "from nltk.stem.porter import PorterStemmer\n",
        "from sklearn.feature_extraction.text import CountVectorizer\n",
        "from sklearn.model_selection import train_test_split\n",
        "from sklearn.metrics import accuracy_score, f1_score, precision_score\n",
        "from sklearn.tree import DecisionTreeClassifier"
      ],
      "metadata": {
        "id": "bHO_VemyUz0m"
      },
      "execution_count": 1,
      "outputs": []
    },
    {
      "cell_type": "code",
      "execution_count": 2,
      "metadata": {
        "id": "RoZlxbynUH1h"
      },
      "outputs": [],
      "source": [
        "# Read data\n",
        "df = pd.read_csv(\"/content/amazon.txt\", delimiter='\\t', header=None)\n",
        "df.columns = [\"Review_text\", \"Review_class\"]"
      ]
    },
    {
      "cell_type": "code",
      "source": [
        "# Print a head of data\n",
        "df.head(10)"
      ],
      "metadata": {
        "colab": {
          "base_uri": "https://localhost:8080/",
          "height": 363
        },
        "id": "V7i7epY8U2la",
        "outputId": "7d846ca9-5a0e-482d-ae85-b3b77f8bb834"
      },
      "execution_count": 3,
      "outputs": [
        {
          "output_type": "execute_result",
          "data": {
            "text/plain": [
              "                                         Review_text  Review_class\n",
              "0  So there is no way for me to plug it in here i...             0\n",
              "1                        Good case, Excellent value.             1\n",
              "2                             Great for the jawbone.             1\n",
              "3  Tied to charger for conversations lasting more...             0\n",
              "4                                  The mic is great.             1\n",
              "5  I have to jiggle the plug to get it to line up...             0\n",
              "6  If you have several dozen or several hundred c...             0\n",
              "7        If you are Razr owner...you must have this!             1\n",
              "8                Needless to say, I wasted my money.             0\n",
              "9                   What a waste of money and time!.             0"
            ],
            "text/html": [
              "\n",
              "  <div id=\"df-1872a999-f1f0-4649-ab89-0ce4f64c01cb\" class=\"colab-df-container\">\n",
              "    <div>\n",
              "<style scoped>\n",
              "    .dataframe tbody tr th:only-of-type {\n",
              "        vertical-align: middle;\n",
              "    }\n",
              "\n",
              "    .dataframe tbody tr th {\n",
              "        vertical-align: top;\n",
              "    }\n",
              "\n",
              "    .dataframe thead th {\n",
              "        text-align: right;\n",
              "    }\n",
              "</style>\n",
              "<table border=\"1\" class=\"dataframe\">\n",
              "  <thead>\n",
              "    <tr style=\"text-align: right;\">\n",
              "      <th></th>\n",
              "      <th>Review_text</th>\n",
              "      <th>Review_class</th>\n",
              "    </tr>\n",
              "  </thead>\n",
              "  <tbody>\n",
              "    <tr>\n",
              "      <th>0</th>\n",
              "      <td>So there is no way for me to plug it in here i...</td>\n",
              "      <td>0</td>\n",
              "    </tr>\n",
              "    <tr>\n",
              "      <th>1</th>\n",
              "      <td>Good case, Excellent value.</td>\n",
              "      <td>1</td>\n",
              "    </tr>\n",
              "    <tr>\n",
              "      <th>2</th>\n",
              "      <td>Great for the jawbone.</td>\n",
              "      <td>1</td>\n",
              "    </tr>\n",
              "    <tr>\n",
              "      <th>3</th>\n",
              "      <td>Tied to charger for conversations lasting more...</td>\n",
              "      <td>0</td>\n",
              "    </tr>\n",
              "    <tr>\n",
              "      <th>4</th>\n",
              "      <td>The mic is great.</td>\n",
              "      <td>1</td>\n",
              "    </tr>\n",
              "    <tr>\n",
              "      <th>5</th>\n",
              "      <td>I have to jiggle the plug to get it to line up...</td>\n",
              "      <td>0</td>\n",
              "    </tr>\n",
              "    <tr>\n",
              "      <th>6</th>\n",
              "      <td>If you have several dozen or several hundred c...</td>\n",
              "      <td>0</td>\n",
              "    </tr>\n",
              "    <tr>\n",
              "      <th>7</th>\n",
              "      <td>If you are Razr owner...you must have this!</td>\n",
              "      <td>1</td>\n",
              "    </tr>\n",
              "    <tr>\n",
              "      <th>8</th>\n",
              "      <td>Needless to say, I wasted my money.</td>\n",
              "      <td>0</td>\n",
              "    </tr>\n",
              "    <tr>\n",
              "      <th>9</th>\n",
              "      <td>What a waste of money and time!.</td>\n",
              "      <td>0</td>\n",
              "    </tr>\n",
              "  </tbody>\n",
              "</table>\n",
              "</div>\n",
              "    <div class=\"colab-df-buttons\">\n",
              "\n",
              "  <div class=\"colab-df-container\">\n",
              "    <button class=\"colab-df-convert\" onclick=\"convertToInteractive('df-1872a999-f1f0-4649-ab89-0ce4f64c01cb')\"\n",
              "            title=\"Convert this dataframe to an interactive table.\"\n",
              "            style=\"display:none;\">\n",
              "\n",
              "  <svg xmlns=\"http://www.w3.org/2000/svg\" height=\"24px\" viewBox=\"0 -960 960 960\">\n",
              "    <path d=\"M120-120v-720h720v720H120Zm60-500h600v-160H180v160Zm220 220h160v-160H400v160Zm0 220h160v-160H400v160ZM180-400h160v-160H180v160Zm440 0h160v-160H620v160ZM180-180h160v-160H180v160Zm440 0h160v-160H620v160Z\"/>\n",
              "  </svg>\n",
              "    </button>\n",
              "\n",
              "  <style>\n",
              "    .colab-df-container {\n",
              "      display:flex;\n",
              "      gap: 12px;\n",
              "    }\n",
              "\n",
              "    .colab-df-convert {\n",
              "      background-color: #E8F0FE;\n",
              "      border: none;\n",
              "      border-radius: 50%;\n",
              "      cursor: pointer;\n",
              "      display: none;\n",
              "      fill: #1967D2;\n",
              "      height: 32px;\n",
              "      padding: 0 0 0 0;\n",
              "      width: 32px;\n",
              "    }\n",
              "\n",
              "    .colab-df-convert:hover {\n",
              "      background-color: #E2EBFA;\n",
              "      box-shadow: 0px 1px 2px rgba(60, 64, 67, 0.3), 0px 1px 3px 1px rgba(60, 64, 67, 0.15);\n",
              "      fill: #174EA6;\n",
              "    }\n",
              "\n",
              "    .colab-df-buttons div {\n",
              "      margin-bottom: 4px;\n",
              "    }\n",
              "\n",
              "    [theme=dark] .colab-df-convert {\n",
              "      background-color: #3B4455;\n",
              "      fill: #D2E3FC;\n",
              "    }\n",
              "\n",
              "    [theme=dark] .colab-df-convert:hover {\n",
              "      background-color: #434B5C;\n",
              "      box-shadow: 0px 1px 3px 1px rgba(0, 0, 0, 0.15);\n",
              "      filter: drop-shadow(0px 1px 2px rgba(0, 0, 0, 0.3));\n",
              "      fill: #FFFFFF;\n",
              "    }\n",
              "  </style>\n",
              "\n",
              "    <script>\n",
              "      const buttonEl =\n",
              "        document.querySelector('#df-1872a999-f1f0-4649-ab89-0ce4f64c01cb button.colab-df-convert');\n",
              "      buttonEl.style.display =\n",
              "        google.colab.kernel.accessAllowed ? 'block' : 'none';\n",
              "\n",
              "      async function convertToInteractive(key) {\n",
              "        const element = document.querySelector('#df-1872a999-f1f0-4649-ab89-0ce4f64c01cb');\n",
              "        const dataTable =\n",
              "          await google.colab.kernel.invokeFunction('convertToInteractive',\n",
              "                                                    [key], {});\n",
              "        if (!dataTable) return;\n",
              "\n",
              "        const docLinkHtml = 'Like what you see? Visit the ' +\n",
              "          '<a target=\"_blank\" href=https://colab.research.google.com/notebooks/data_table.ipynb>data table notebook</a>'\n",
              "          + ' to learn more about interactive tables.';\n",
              "        element.innerHTML = '';\n",
              "        dataTable['output_type'] = 'display_data';\n",
              "        await google.colab.output.renderOutput(dataTable, element);\n",
              "        const docLink = document.createElement('div');\n",
              "        docLink.innerHTML = docLinkHtml;\n",
              "        element.appendChild(docLink);\n",
              "      }\n",
              "    </script>\n",
              "  </div>\n",
              "\n",
              "\n",
              "<div id=\"df-05487320-3af0-4bc2-9ac2-b15cc7f3df33\">\n",
              "  <button class=\"colab-df-quickchart\" onclick=\"quickchart('df-05487320-3af0-4bc2-9ac2-b15cc7f3df33')\"\n",
              "            title=\"Suggest charts\"\n",
              "            style=\"display:none;\">\n",
              "\n",
              "<svg xmlns=\"http://www.w3.org/2000/svg\" height=\"24px\"viewBox=\"0 0 24 24\"\n",
              "     width=\"24px\">\n",
              "    <g>\n",
              "        <path d=\"M19 3H5c-1.1 0-2 .9-2 2v14c0 1.1.9 2 2 2h14c1.1 0 2-.9 2-2V5c0-1.1-.9-2-2-2zM9 17H7v-7h2v7zm4 0h-2V7h2v10zm4 0h-2v-4h2v4z\"/>\n",
              "    </g>\n",
              "</svg>\n",
              "  </button>\n",
              "\n",
              "<style>\n",
              "  .colab-df-quickchart {\n",
              "      --bg-color: #E8F0FE;\n",
              "      --fill-color: #1967D2;\n",
              "      --hover-bg-color: #E2EBFA;\n",
              "      --hover-fill-color: #174EA6;\n",
              "      --disabled-fill-color: #AAA;\n",
              "      --disabled-bg-color: #DDD;\n",
              "  }\n",
              "\n",
              "  [theme=dark] .colab-df-quickchart {\n",
              "      --bg-color: #3B4455;\n",
              "      --fill-color: #D2E3FC;\n",
              "      --hover-bg-color: #434B5C;\n",
              "      --hover-fill-color: #FFFFFF;\n",
              "      --disabled-bg-color: #3B4455;\n",
              "      --disabled-fill-color: #666;\n",
              "  }\n",
              "\n",
              "  .colab-df-quickchart {\n",
              "    background-color: var(--bg-color);\n",
              "    border: none;\n",
              "    border-radius: 50%;\n",
              "    cursor: pointer;\n",
              "    display: none;\n",
              "    fill: var(--fill-color);\n",
              "    height: 32px;\n",
              "    padding: 0;\n",
              "    width: 32px;\n",
              "  }\n",
              "\n",
              "  .colab-df-quickchart:hover {\n",
              "    background-color: var(--hover-bg-color);\n",
              "    box-shadow: 0 1px 2px rgba(60, 64, 67, 0.3), 0 1px 3px 1px rgba(60, 64, 67, 0.15);\n",
              "    fill: var(--button-hover-fill-color);\n",
              "  }\n",
              "\n",
              "  .colab-df-quickchart-complete:disabled,\n",
              "  .colab-df-quickchart-complete:disabled:hover {\n",
              "    background-color: var(--disabled-bg-color);\n",
              "    fill: var(--disabled-fill-color);\n",
              "    box-shadow: none;\n",
              "  }\n",
              "\n",
              "  .colab-df-spinner {\n",
              "    border: 2px solid var(--fill-color);\n",
              "    border-color: transparent;\n",
              "    border-bottom-color: var(--fill-color);\n",
              "    animation:\n",
              "      spin 1s steps(1) infinite;\n",
              "  }\n",
              "\n",
              "  @keyframes spin {\n",
              "    0% {\n",
              "      border-color: transparent;\n",
              "      border-bottom-color: var(--fill-color);\n",
              "      border-left-color: var(--fill-color);\n",
              "    }\n",
              "    20% {\n",
              "      border-color: transparent;\n",
              "      border-left-color: var(--fill-color);\n",
              "      border-top-color: var(--fill-color);\n",
              "    }\n",
              "    30% {\n",
              "      border-color: transparent;\n",
              "      border-left-color: var(--fill-color);\n",
              "      border-top-color: var(--fill-color);\n",
              "      border-right-color: var(--fill-color);\n",
              "    }\n",
              "    40% {\n",
              "      border-color: transparent;\n",
              "      border-right-color: var(--fill-color);\n",
              "      border-top-color: var(--fill-color);\n",
              "    }\n",
              "    60% {\n",
              "      border-color: transparent;\n",
              "      border-right-color: var(--fill-color);\n",
              "    }\n",
              "    80% {\n",
              "      border-color: transparent;\n",
              "      border-right-color: var(--fill-color);\n",
              "      border-bottom-color: var(--fill-color);\n",
              "    }\n",
              "    90% {\n",
              "      border-color: transparent;\n",
              "      border-bottom-color: var(--fill-color);\n",
              "    }\n",
              "  }\n",
              "</style>\n",
              "\n",
              "  <script>\n",
              "    async function quickchart(key) {\n",
              "      const quickchartButtonEl =\n",
              "        document.querySelector('#' + key + ' button');\n",
              "      quickchartButtonEl.disabled = true;  // To prevent multiple clicks.\n",
              "      quickchartButtonEl.classList.add('colab-df-spinner');\n",
              "      try {\n",
              "        const charts = await google.colab.kernel.invokeFunction(\n",
              "            'suggestCharts', [key], {});\n",
              "      } catch (error) {\n",
              "        console.error('Error during call to suggestCharts:', error);\n",
              "      }\n",
              "      quickchartButtonEl.classList.remove('colab-df-spinner');\n",
              "      quickchartButtonEl.classList.add('colab-df-quickchart-complete');\n",
              "    }\n",
              "    (() => {\n",
              "      let quickchartButtonEl =\n",
              "        document.querySelector('#df-05487320-3af0-4bc2-9ac2-b15cc7f3df33 button');\n",
              "      quickchartButtonEl.style.display =\n",
              "        google.colab.kernel.accessAllowed ? 'block' : 'none';\n",
              "    })();\n",
              "  </script>\n",
              "</div>\n",
              "\n",
              "    </div>\n",
              "  </div>\n"
            ]
          },
          "metadata": {},
          "execution_count": 3
        }
      ]
    },
    {
      "cell_type": "code",
      "source": [
        "# Download data from NLTK Downloader\n",
        "nltk.download('punkt')\n",
        "nltk.download('stopwords')"
      ],
      "metadata": {
        "colab": {
          "base_uri": "https://localhost:8080/"
        },
        "id": "jOzq5JRBahS-",
        "outputId": "20d4f2d1-e97c-4fbd-c445-d932db5d0925"
      },
      "execution_count": 4,
      "outputs": [
        {
          "output_type": "stream",
          "name": "stderr",
          "text": [
            "[nltk_data] Downloading package punkt to /root/nltk_data...\n",
            "[nltk_data]   Package punkt is already up-to-date!\n",
            "[nltk_data] Downloading package stopwords to /root/nltk_data...\n",
            "[nltk_data]   Package stopwords is already up-to-date!\n"
          ]
        },
        {
          "output_type": "execute_result",
          "data": {
            "text/plain": [
              "True"
            ]
          },
          "metadata": {},
          "execution_count": 4
        }
      ]
    },
    {
      "cell_type": "code",
      "source": [
        "# Clean Review_text column\n",
        "def clean_text_alternative(df):\n",
        "    def process_text(text):\n",
        "        # Convert text into lower case\n",
        "        text = text.lower()\n",
        "        # Remove links\n",
        "        text = re.sub(r'http[s]?://(?:[a-zA-Z]|[0-9]|[$-_@.&+]|[!*\\(\\),]|(?:%[0-9a-fA-F][0-9a-fA-F]))+', '', text)\n",
        "        # Remove punctuation\n",
        "        text = re.sub(r'[,.\\\"!@#$%^&*(){}?/;`~:<>+=-]', '', text)\n",
        "        # Make tokenaization\n",
        "        tokens = word_tokenize(text)\n",
        "        table = str.maketrans('', '', string.punctuation)\n",
        "        stripped = [w.translate(table) for w in tokens]\n",
        "        # Ignore anything not alphabetic\n",
        "        words = [word for word in stripped if word.isalpha()]\n",
        "        # define stop words\n",
        "        stop_words = set(stopwords.words('english'))\n",
        "        # Discard \"not\" from stop words\n",
        "        stop_words.discard('not')\n",
        "        # Apply stemming to return the word into base word\n",
        "        ps = PorterStemmer()\n",
        "        words = [ps.stem(w) for w in words if w not in stop_words]\n",
        "        return ' '.join(words)\n",
        "\n",
        "    return [process_text(text) for text in df['Review_text'].values.tolist()]\n"
      ],
      "metadata": {
        "id": "1si7SLCCU5DT"
      },
      "execution_count": 5,
      "outputs": []
    },
    {
      "cell_type": "code",
      "source": [
        "# Call the function\n",
        "cleaned_reviews = clean_text_alternative(df)\n",
        "print(cleaned_reviews[0:5])"
      ],
      "metadata": {
        "colab": {
          "base_uri": "https://localhost:8080/"
        },
        "id": "UmGtYqQcZxp8",
        "outputId": "18f0b1e6-6217-4035-b083-d51678da6abc"
      },
      "execution_count": 6,
      "outputs": [
        {
          "output_type": "stream",
          "name": "stdout",
          "text": [
            "['way plug us unless go convert', 'good case excel valu', 'great jawbon', 'tie charger convers last minutesmajor problem', 'mic great']\n"
          ]
        }
      ]
    },
    {
      "cell_type": "code",
      "source": [
        "# Initialize CountVectorizer with min_df=2\n",
        "CV = CountVectorizer(min_df=2)\n",
        "# Fit and transform the documents\n",
        "X = CV.fit_transform(cleaned_reviews).toarray()\n",
        "# Get target\n",
        "y = df[\"Review_class\"].values\n",
        "# Get feature names (terms)\n",
        "feature_names = CV.get_feature_names_out()\n",
        "# Display the transformed data and feature names\n",
        "print(\"Transformed Data:\")\n",
        "print(X)\n",
        "print(\"\\nFeature Names:\")\n",
        "print(feature_names)"
      ],
      "metadata": {
        "colab": {
          "base_uri": "https://localhost:8080/"
        },
        "id": "Lf57H7Lbdt8T",
        "outputId": "5c0dc79c-be1f-4511-ba8d-9aaab50f5b9d"
      },
      "execution_count": 7,
      "outputs": [
        {
          "output_type": "stream",
          "name": "stdout",
          "text": [
            "Transformed Data:\n",
            "[[0 0 0 ... 0 0 0]\n",
            " [0 0 0 ... 0 0 0]\n",
            " [0 0 0 ... 0 0 0]\n",
            " ...\n",
            " [0 0 0 ... 0 0 0]\n",
            " [0 0 0 ... 0 0 0]\n",
            " [0 0 0 ... 0 0 0]]\n",
            "\n",
            "Feature Names:\n",
            "['abil' 'abl' 'absolut' 'accept' 'access' 'activ' 'actual' 'adapt' 'addit'\n",
            " 'ador' 'advertis' 'advis' 'ago' 'allow' 'almost' 'alon' 'along' 'also'\n",
            " 'although' 'alway' 'amaz' 'amazon' 'anoth' 'anyon' 'anyth' 'apart'\n",
            " 'appear' 'area' 'around' 'arriv' 'ask' 'att' 'audio' 'avoid' 'aw' 'away'\n",
            " 'awesom' 'back' 'background' 'bad' 'bar' 'bare' 'bargain' 'basic'\n",
            " 'batteri' 'beat' 'beauti' 'beep' 'belt' 'best' 'better' 'bewar' 'big'\n",
            " 'bit' 'black' 'blackberri' 'blue' 'bluetooth' 'book' 'bother' 'bought'\n",
            " 'brand' 'break' 'broke' 'bt' 'button' 'buy' 'buyer' 'buzz' 'ca' 'cabl'\n",
            " 'call' 'came' 'camera' 'cancel' 'cant' 'car' 'care' 'carri' 'case'\n",
            " 'catch' 'caus' 'cell' 'cellphon' 'certainli' 'charg' 'charger' 'charm'\n",
            " 'cheap' 'cheaper' 'check' 'chines' 'choic' 'cingular' 'clariti' 'clear'\n",
            " 'clearli' 'clip' 'color' 'come' 'comfort' 'commun' 'compani' 'complain'\n",
            " 'complaint' 'complet' 'comput' 'connect' 'construct' 'consum' 'contact'\n",
            " 'continu' 'control' 'convers' 'cool' 'cost' 'could' 'coupl' 'cover'\n",
            " 'coverag' 'cradl' 'crap' 'crisp' 'cumbersom' 'current' 'custom' 'cut'\n",
            " 'data' 'date' 'day' 'dead' 'deal' 'decent' 'decis' 'defect' 'definit'\n",
            " 'describ' 'descript' 'design' 'despit' 'devic' 'dial' 'die' 'differ'\n",
            " 'difficult' 'direct' 'disappoint' 'display' 'dissapoint' 'dock' 'done'\n",
            " 'dont' 'download' 'dozen' 'drain' 'drive' 'drop' 'ear' 'earbud' 'eargel'\n",
            " 'earphon' 'earpiec' 'eas' 'easi' 'easier' 'easili' 'echo' 'effect'\n",
            " 'either' 'end' 'enough' 'especi' 'essenti' 'etc' 'even' 'ever' 'everi'\n",
            " 'everyon' 'everyth' 'exactli' 'excel' 'except' 'exchang' 'excit' 'expect'\n",
            " 'expens' 'experi' 'experienc' 'extend' 'extra' 'extrem' 'face' 'fail'\n",
            " 'fall' 'famili' 'fantast' 'far' 'fast' 'featur' 'feel' 'feet' 'felt'\n",
            " 'figur' 'final' 'find' 'fine' 'fire' 'first' 'fit' 'flash' 'flaw'\n",
            " 'flawlessli' 'flimsi' 'flip' 'forc' 'forev' 'forget' 'form' 'found'\n",
            " 'free' 'friendli' 'front' 'full' 'function' 'gadget' 'game' 'gel' 'get'\n",
            " 'give' 'given' 'glad' 'glass' 'go' 'goe' 'good' 'got' 'gotten' 'graphic'\n",
            " 'great' 'hand' 'handi' 'handsfre' 'happen' 'happi' 'happier' 'hard'\n",
            " 'hate' 'headphon' 'headset' 'hear' 'help' 'high' 'highli' 'hold'\n",
            " 'holster' 'home' 'hope' 'horribl' 'hour' 'hous' 'howev' 'huge' 'igo' 'im'\n",
            " 'import' 'impress' 'improv' 'includ' 'incred' 'insid' 'instal' 'instead'\n",
            " 'instruct' 'internet' 'iphon' 'ipod' 'issu' 'item' 'jabra' 'jawbon' 'job'\n",
            " 'joke' 'junk' 'keep' 'kept' 'key' 'keyboard' 'keypad' 'kind' 'know'\n",
            " 'lack' 'larg' 'last' 'later' 'least' 'leather' 'left' 'less' 'let' 'lg'\n",
            " 'life' 'light' 'lightweight' 'like' 'line' 'link' 'listen' 'liter'\n",
            " 'littl' 'lock' 'logitech' 'long' 'longer' 'look' 'loop' 'loos' 'lose'\n",
            " 'lost' 'lot' 'loud' 'love' 'low' 'made' 'maintain' 'make' 'mani' 'market'\n",
            " 'match' 'may' 'mention' 'mess' 'messag' 'mic' 'microphon' 'might' 'minut'\n",
            " 'mistak' 'mobil' 'model' 'money' 'month' 'moto' 'motorola' 'much' 'music'\n",
            " 'must' 'nearli' 'need' 'neither' 'network' 'never' 'new' 'next' 'nice'\n",
            " 'nois' 'nokia' 'none' 'normal' 'not' 'note' 'noth' 'notic' 'nt' 'number'\n",
            " 'numer' 'obvious' 'offer' 'oh' 'old' 'one' 'open' 'oper' 'option' 'order'\n",
            " 'origin' 'other' 'outlet' 'overal' 'overrid' 'own' 'packag' 'pad' 'pain'\n",
            " 'pair' 'palm' 'part' 'parti' 'particular' 'pay' 'pc' 'pda' 'peopl'\n",
            " 'perfectli' 'perform' 'perhap' 'period' 'phone' 'pictur' 'piec' 'place'\n",
            " 'plan' 'plantron' 'plastic' 'play' 'player' 'pleas' 'plu' 'plug' 'pocket'\n",
            " 'poor' 'poorli' 'power' 'practic' 'pretti' 'previou' 'price' 'probabl'\n",
            " 'problem' 'procedur' 'product' 'protect' 'protector' 'provid' 'pull'\n",
            " 'purchas' 'push' 'put' 'qualiti' 'quick' 'quickli' 'quiet' 'quit' 'rang'\n",
            " 'rate' 'rather' 'razr' 'reach' 'read' 'real' 'realli' 'reason' 'receiv'\n",
            " 'recept' 'recharg' 'recognit' 'recommend' 'red' 'refund' 'refus' 'regard'\n",
            " 'regret' 'rel' 'replac' 'resolut' 'rest' 'result' 'return' 'revers'\n",
            " 'review' 'right' 'ring' 'rington' 'rip' 'rock' 'room' 'run' 'said'\n",
            " 'samsung' 'satisfi' 'save' 'say' 'scratch' 'screen' 'second' 'secur'\n",
            " 'seem' 'seller' 'send' 'seri' 'serious' 'servic' 'set' 'setup' 'sever'\n",
            " 'sharp' 'ship' 'show' 'side' 'signal' 'simpl' 'simpli' 'sinc' 'size'\n",
            " 'skype' 'sleek' 'slide' 'slim' 'slow' 'small' 'smell' 'smoke' 'softwar'\n",
            " 'someth' 'sometim' 'soni' 'sound' 'sourc' 'speaker' 'spring' 'sprint'\n",
            " 'star' 'start' 'state' 'static' 'station' 'stay' 'still' 'stop' 'storag'\n",
            " 'store' 'strong' 'stuff' 'stupid' 'sturdi' 'style' 'suck' 'sunglass'\n",
            " 'super' 'superb' 'support' 'sure' 'switch' 'take' 'talk' 'tech'\n",
            " 'technolog' 'tell' 'terribl' 'thank' 'that' 'thin' 'thing' 'think'\n",
            " 'third' 'though' 'thought' 'three' 'tick' 'time' 'timefram' 'tinni' 'tip'\n",
            " 'tmobil' 'togeth' 'told' 'tone' 'took' 'tool' 'tooth' 'total' 'touch'\n",
            " 'tremend' 'treo' 'tri' 'troubl' 'turn' 'two' 'unaccept' 'uncomfort'\n",
            " 'understand' 'unfortun' 'unhappi' 'unit' 'unless' 'unreli' 'unus' 'us'\n",
            " 'usb' 'use' 'useless' 'user' 'usual' 'valu' 'verizon' 'video' 'voic'\n",
            " 'volum' 'wait' 'wall' 'want' 'warn' 'warranti' 'wast' 'way' 'weak' 'wear'\n",
            " 'websit' 'week' 'well' 'went' 'whatsoev' 'white' 'whole' 'wife' 'window'\n",
            " 'wire' 'wireless' 'within' 'without' 'wo' 'wonder' 'work' 'worst' 'worth'\n",
            " 'worthless' 'worthwhil' 'would' 'wow' 'wrong' 'year' 'yet']\n"
          ]
        }
      ]
    },
    {
      "cell_type": "code",
      "source": [
        "# Print shape of \"X\" and \"Y\"\n",
        "print(np.shape(X))\n",
        "print(np.shape(y))"
      ],
      "metadata": {
        "colab": {
          "base_uri": "https://localhost:8080/"
        },
        "id": "K8tFi8Kqc82_",
        "outputId": "f29d00b3-c92a-47a6-ac3c-bcf0cd50d8ea"
      },
      "execution_count": 8,
      "outputs": [
        {
          "output_type": "stream",
          "name": "stdout",
          "text": [
            "(1000, 621)\n",
            "(1000,)\n"
          ]
        }
      ]
    },
    {
      "cell_type": "code",
      "source": [
        "# Split the data\n",
        "X_train, X_test, y_train, y_test = train_test_split(X, y, test_size = 0.2, random_state = 0)"
      ],
      "metadata": {
        "id": "mmMZHxHWfncw"
      },
      "execution_count": 9,
      "outputs": []
    },
    {
      "cell_type": "code",
      "source": [
        "# Building the model\n",
        "model = DecisionTreeClassifier(criterion=\"entropy\", random_state=41)"
      ],
      "metadata": {
        "id": "kVyPBPOKgSXW"
      },
      "execution_count": 10,
      "outputs": []
    },
    {
      "cell_type": "code",
      "source": [
        "# Train the model\n",
        "model.fit(X_train,y_train)\n",
        "# Make prediction\n",
        "y_pred = model.predict(X_test)\n",
        "# Print Accuracy\n",
        "print(accuracy_score(y_test, y_pred))\n",
        "# Print F1-score\n",
        "print(f1_score(y_test, y_pred))\n",
        "# Print Precision\n",
        "print(precision_score(y_test, y_pred))"
      ],
      "metadata": {
        "colab": {
          "base_uri": "https://localhost:8080/"
        },
        "id": "Cx2dnsHlgwoY",
        "outputId": "729cd763-d3b5-463d-e6a7-2d3a2e42600b"
      },
      "execution_count": 11,
      "outputs": [
        {
          "output_type": "stream",
          "name": "stdout",
          "text": [
            "0.845\n",
            "0.841025641025641\n",
            "0.9010989010989011\n"
          ]
        }
      ]
    }
  ]
}